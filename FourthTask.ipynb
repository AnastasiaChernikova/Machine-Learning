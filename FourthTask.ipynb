{
 "cells": [
  {
   "cell_type": "code",
   "execution_count": 1,
   "metadata": {},
   "outputs": [],
   "source": [
    "import numpy as np\n",
    "import pandas as pd\n",
    "from sklearn.model_selection import train_test_split\n",
    "from mpl_toolkits.mplot3d import Axes3D\n",
    "import matplotlib.pyplot as plt\n",
    "\n",
    "from matplotlib.colors import ListedColormap\n",
    "cm_bright = ListedColormap(['#FF0000', '#0000FF'])\n",
    "%matplotlib inline\n",
    "from sklearn.metrics import accuracy_score\n",
    "\n",
    "import sklearn.linear_model"
   ]
  },
  {
   "cell_type": "code",
   "execution_count": 2,
   "metadata": {},
   "outputs": [],
   "source": [
    "def plot_surface(cls, x_1, x_2, ax=None, threshold=0.5, contourf=False):\n",
    "    xx1, xx2 = np.meshgrid(np.linspace(x_1.min(), x_1.max(), 100), \n",
    "                           np.linspace(x_2.min(), x_2.max(), 100))\n",
    "\n",
    "    X_pred = np.c_[xx1.ravel(), xx2.ravel()]\n",
    "    pred = cls.predict_proba(X_pred)[:, 0]\n",
    "    Z = pred.reshape((100, 100))\n",
    "    if ax is None:\n",
    "        ax = plt.gca()\n",
    "    ax.contour(xx1, xx2, Z, levels=[threshold], colors='black')\n",
    "    ax.set_xlim((x_1.min(), x_1.max()))\n",
    "    ax.set_ylim((x_2.min(), x_2.max()))"
   ]
  },
  {
   "cell_type": "code",
   "execution_count": 3,
   "metadata": {},
   "outputs": [],
   "source": [
    "def plot_data(X, y):\n",
    "    ax = plt.gca()\n",
    "    ax.scatter(X[:,0], X[:,1], c=(y == 1), cmap=cm_bright)"
   ]
  },
  {
   "cell_type": "code",
   "execution_count": 4,
   "metadata": {},
   "outputs": [],
   "source": [
    "class NeuralNet:\n",
    "    \n",
    "    def __init__(self, hidden_layer_sizes, normalize = True, learning_rate = 0.01, num_iter = 30000, precision = None):\n",
    "        self.learning_rate = learning_rate\n",
    "        self.num_iter = num_iter\n",
    "        self.normalize = normalize\n",
    "        \n",
    "        self.hidden_layer_sizes = hidden_layer_sizes\n",
    "        self.precision = precision\n",
    "       \n",
    "    def __normalize(self, X, mean = None, std = None):\n",
    "        n = X.shape[0]\n",
    "        m = mean\n",
    "        if m is None:\n",
    "            m = np.mean(X, axis=1).reshape((n, 1))\n",
    "        s = std\n",
    "        if s is None:\n",
    "            s = np.std(X, axis=1).reshape((n, 1))\n",
    "        X_new = (X - m) / s**2\n",
    "        return X_new, m, s\n",
    "  \n",
    "    def __sigmoid(self, Z):\n",
    "        return 1 / (1 + np.exp(-Z))\n",
    "\n",
    "    def __initialize_parameters(self):\n",
    "        hidden_layer_sizes = self.hidden_layer_sizes\n",
    "        parameters = {}\n",
    "        for l in range(1, len(hidden_layer_sizes)):\n",
    "            parameters['W' + str(l)] = np.random.randn(hidden_layer_sizes[l], hidden_layer_sizes[l-1]) * 0.01\n",
    "            parameters['b' + str(l)] = np.zeros((hidden_layer_sizes[l], 1))\n",
    "        self.parameters = parameters\n",
    "             \n",
    "    def __forward_linear_activation(self, A_prev, W, b):   \n",
    "        Z = np.dot(W, A_prev) + b\n",
    "        linear_cache = (A_prev, W, b)\n",
    "        A = self.__sigmoid(Z)\n",
    "        activation_cache = Z\n",
    "        cache = (linear_cache, activation_cache)\n",
    "        return A, cache\n",
    "    \n",
    "    def __multilayer_forward(self, X):       \n",
    "        parameters = self.parameters\n",
    "        caches = []\n",
    "        A = X\n",
    "        L = len(parameters) // 2\n",
    "        for l in range(1, L):\n",
    "            A_prev = A \n",
    "            A, cache = self.__forward_linear_activation(A_prev, parameters[\"W\"+str(l)], parameters[\"b\"+str(l)])\n",
    "            caches.append(cache)   \n",
    "        AL, cache = self.__forward_linear_activation(A, parameters[\"W\"+str(L)], parameters[\"b\"+str(L)])\n",
    "        caches.append(cache)\n",
    "        assert(AL.shape == (1,X.shape[1]))\n",
    "        return AL, caches\n",
    "    \n",
    "    def __backward_linear_activation(self, dA, cache):\n",
    "        \n",
    "        linear_cache, activation_cache = cache\n",
    "        Z = activation_cache\n",
    "        s = 1/(1+np.exp(-Z))\n",
    "        dZ = dA * s * (1-s)\n",
    "        A_prev, W, b = linear_cache\n",
    "        m = A_prev.shape[1]\n",
    "        dW = 1 / m * np.dot(dZ, A_prev.T)\n",
    "        db = 1 / m * np.sum(dZ, axis=1, keepdims=True)\n",
    "        dA_prev = np.dot(W.T, dZ)\n",
    "        return dA_prev, dW, db\n",
    "\n",
    "    def __multilayer_backward(self, X, Y, caches):\n",
    "        grads = {}\n",
    "        AL = X\n",
    "        L = len(caches)\n",
    "        m = AL.shape[1]\n",
    "        Y = Y.reshape(AL.shape)\n",
    "        dAL = -(np.divide(Y, AL) - np.divide(1 - Y, 1 - AL))\n",
    "        current_cache = caches[L-1]\n",
    "        grads[\"dA\" + str(L-1)], grads[\"dW\" + str(L)], grads[\"db\" + str(L)] = self.__backward_linear_activation(dAL, current_cache)\n",
    "        for l in reversed(range(L-1)):\n",
    "            current_cache = caches[l]\n",
    "            dA_prev_temp, dW_temp, db_temp = self.__backward_linear_activation(grads[\"dA\" + str(l + 1)], current_cache)\n",
    "            grads[\"dA\" + str(l)] = dA_prev_temp\n",
    "            grads[\"dW\" + str(l + 1)] = dW_temp\n",
    "            grads[\"db\" + str(l + 1)] = db_temp  \n",
    "        return grads\n",
    "      \n",
    "    def compute_cost(self, A, Y):\n",
    "        m = Y.shape[1]\n",
    "        res = Y * np.log(A) + (1 - Y) * np.log(1 - A)\n",
    "        J = -(1 / m) * np.sum(res)\n",
    "        return J\n",
    "   \n",
    "    def __update_parameters(self, grads):\n",
    "        parameters = self.parameters;\n",
    "        learning_rate = self.learning_rate\n",
    "        L = len(parameters) // 2\n",
    "        for l in range(L):\n",
    "            parameters[\"W\" + str(l+1)] = parameters[\"W\" + str(l+1)] - learning_rate * grads[\"dW\" + str(l+1)]\n",
    "            parameters[\"b\" + str(l+1)] = parameters[\"b\" + str(l+1)] - learning_rate * grads[\"db\" + str(l+1)]       \n",
    "        self.parameters = parameters;\n",
    "        \n",
    "    \n",
    "    def fit(self, X_vert, Y_vert, print_cost = True):\n",
    "        \n",
    "        X, Y = X_vert.T, Y_vert.T\n",
    "        if self.normalize:\n",
    "            X, self.__mean, self.__std = self.__normalize(X)\n",
    "        costs = []\n",
    "        self.__initialize_parameters()\n",
    "        for i in range(0, self.num_iter):\n",
    "            AL, caches = self.__multilayer_forward(X)\n",
    "            cost = self.compute_cost(AL, Y)\n",
    "            grads = self.__multilayer_backward(AL, Y, caches) \n",
    "            self.__update_parameters(grads)\n",
    "            if print_cost and i % 100 == 0:\n",
    "                print (\"Cost after iteration %i: %f\" %(i, cost))\n",
    "            if print_cost and i % 100 == 0:\n",
    "                costs.append(cost) \n",
    "                if len(costs) > 1 and self.precision != None and np.abs(costs[-2] - costs[-1]) < self.precision:\n",
    "                    print('Stopping gradient descent ...')\n",
    "                    break\n",
    "        if print_cost:\n",
    "                plt.plot(costs)\n",
    "                plt.ylabel(\"Cost\")\n",
    "                plt.xlabel(\"Iteration, *100\")\n",
    "                plt.show()\n",
    "\n",
    "    def predict_proba(self, X_vert):\n",
    "        X = X_vert.T\n",
    "        if self.normalize:\n",
    "            X, _, _ = self.__normalize(X, self.__mean, self.__std)\n",
    "        probs = self.__multilayer_forward(X)[0]\n",
    "        return np.column_stack((probs.T, 1 - probs.T))\n",
    "    \n",
    "    def predict(self, X_vert):\n",
    "        positive_probs = self.predict_proba(X_vert)[:, 0]\n",
    "        return (positive_probs >= 0.5).astype(int)"
   ]
  },
  {
   "cell_type": "code",
   "execution_count": 5,
   "metadata": {},
   "outputs": [],
   "source": [
    "#data_columns = [\"exam1\", \"exam2\"]\n",
    "#target_column = \"submitted\"\n",
    "#df = pd.read_csv(\"sats.csv\")\n",
    "#X, Y = df[data_columns].values, df[target_column].reshape((df.shape[0], 1))\n",
    "#print('Training set: X={}, y={}'.format(X.shape, Y.shape))"
   ]
  },
  {
   "cell_type": "code",
   "execution_count": 6,
   "metadata": {},
   "outputs": [
    {
     "name": "stdout",
     "output_type": "stream",
     "text": [
      "Training set: X=(118, 2), y=(118,)\n"
     ]
    }
   ],
   "source": [
    "data_columns = [\"test1\", \"test2\"]\n",
    "target_column = \"passed\"\n",
    "df = pd.read_csv(\"tests.csv\")\n",
    "X, Y = df[data_columns].values, df[target_column]\n",
    "print('Training set: X={}, y={}'.format(X.shape, Y.shape))"
   ]
  },
  {
   "cell_type": "code",
   "execution_count": 7,
   "metadata": {},
   "outputs": [
    {
     "data": {
      "image/png": "[encoded data removed]",
      "text/plain": [
       "<Figure size 432x288 with 1 Axes>"
      ]
     },
     "metadata": {
      "needs_background": "light"
     },
     "output_type": "display_data"
    }
   ],
   "source": [
    "plot_data(X, Y)"
   ]
  },
  {
   "cell_type": "code",
   "execution_count": 8,
   "metadata": {},
   "outputs": [],
   "source": [
    "#cls = NeuralNet(normalize = True, learning_rate = 0.5, num_iter = 4000)\n",
    "cls = NeuralNet(hidden_layer_sizes = [2,2,1], normalize = True, learning_rate = 0.5, num_iter = 14000) "
   ]
  },
  {
   "cell_type": "code",
   "execution_count": 9,
   "metadata": {},
   "outputs": [],
   "source": [
    "X_train, X_test, Y_train, Y_test = train_test_split(X, Y.values.reshape((Y.shape[0], 1)), test_size = 0.2, random_state=10)"
   ]
  },
  {
   "cell_type": "code",
   "execution_count": 10,
   "metadata": {},
   "outputs": [
    {
     "name": "stdout",
     "output_type": "stream",
     "text": [
      "Cost after iteration 0: 0.693160\n",
      "Cost after iteration 100: 0.689488\n",
      "Cost after iteration 200: 0.689413\n",
      "Cost after iteration 300: 0.689259\n",
      "Cost after iteration 400: 0.688987\n",
      "Cost after iteration 500: 0.688623\n",
      "Cost after iteration 600: 0.688232\n",
      "Cost after iteration 700: 0.687756\n",
      "Cost after iteration 800: 0.686945\n",
      "Cost after iteration 900: 0.685204\n",
      "Cost after iteration 1000: 0.681422\n",
      "Cost after iteration 1100: 0.674492\n",
      "Cost after iteration 1200: 0.663255\n",
      "Cost after iteration 1300: 0.643737\n",
      "Cost after iteration 1400: 0.617130\n",
      "Cost after iteration 1500: 0.595765\n",
      "Cost after iteration 1600: 0.582412\n",
      "Cost after iteration 1700: 0.574399\n",
      "Cost after iteration 1800: 0.569332\n",
      "Cost after iteration 1900: 0.565876\n",
      "Cost after iteration 2000: 0.563352\n",
      "Cost after iteration 2100: 0.561410\n",
      "Cost after iteration 2200: 0.559853\n",
      "Cost after iteration 2300: 0.558568\n",
      "Cost after iteration 2400: 0.557481\n",
      "Cost after iteration 2500: 0.556544\n",
      "Cost after iteration 2600: 0.555721\n",
      "Cost after iteration 2700: 0.554989\n",
      "Cost after iteration 2800: 0.554331\n",
      "Cost after iteration 2900: 0.553734\n",
      "Cost after iteration 3000: 0.553188\n",
      "Cost after iteration 3100: 0.552687\n",
      "Cost after iteration 3200: 0.552224\n",
      "Cost after iteration 3300: 0.551797\n",
      "Cost after iteration 3400: 0.551401\n",
      "Cost after iteration 3500: 0.551034\n",
      "Cost after iteration 3600: 0.550692\n",
      "Cost after iteration 3700: 0.550374\n",
      "Cost after iteration 3800: 0.550078\n",
      "Cost after iteration 3900: 0.549801\n",
      "Cost after iteration 4000: 0.549543\n",
      "Cost after iteration 4100: 0.549301\n",
      "Cost after iteration 4200: 0.549074\n",
      "Cost after iteration 4300: 0.548861\n",
      "Cost after iteration 4400: 0.548661\n",
      "Cost after iteration 4500: 0.548473\n",
      "Cost after iteration 4600: 0.548295\n",
      "Cost after iteration 4700: 0.548128\n",
      "Cost after iteration 4800: 0.547970\n",
      "Cost after iteration 4900: 0.547821\n",
      "Cost after iteration 5000: 0.547679\n",
      "Cost after iteration 5100: 0.547545\n",
      "Cost after iteration 5200: 0.547417\n",
      "Cost after iteration 5300: 0.547295\n",
      "Cost after iteration 5400: 0.547179\n",
      "Cost after iteration 5500: 0.547068\n",
      "Cost after iteration 5600: 0.546963\n",
      "Cost after iteration 5700: 0.546861\n",
      "Cost after iteration 5800: 0.546764\n",
      "Cost after iteration 5900: 0.546671\n",
      "Cost after iteration 6000: 0.546581\n",
      "Cost after iteration 6100: 0.546494\n",
      "Cost after iteration 6200: 0.546410\n",
      "Cost after iteration 6300: 0.546329\n",
      "Cost after iteration 6400: 0.546251\n",
      "Cost after iteration 6500: 0.546175\n",
      "Cost after iteration 6600: 0.546101\n",
      "Cost after iteration 6700: 0.546029\n",
      "Cost after iteration 6800: 0.545959\n",
      "Cost after iteration 6900: 0.545890\n",
      "Cost after iteration 7000: 0.545823\n",
      "Cost after iteration 7100: 0.545757\n",
      "Cost after iteration 7200: 0.545693\n",
      "Cost after iteration 7300: 0.545629\n",
      "Cost after iteration 7400: 0.545566\n",
      "Cost after iteration 7500: 0.545505\n",
      "Cost after iteration 7600: 0.545444\n",
      "Cost after iteration 7700: 0.545383\n",
      "Cost after iteration 7800: 0.545323\n",
      "Cost after iteration 7900: 0.545264\n",
      "Cost after iteration 8000: 0.545205\n",
      "Cost after iteration 8100: 0.545145\n",
      "Cost after iteration 8200: 0.545086\n",
      "Cost after iteration 8300: 0.545027\n",
      "Cost after iteration 8400: 0.544968\n",
      "Cost after iteration 8500: 0.544909\n",
      "Cost after iteration 8600: 0.544849\n",
      "Cost after iteration 8700: 0.544789\n",
      "Cost after iteration 8800: 0.544728\n",
      "Cost after iteration 8900: 0.544667\n",
      "Cost after iteration 9000: 0.544604\n",
      "Cost after iteration 9100: 0.544541\n",
      "Cost after iteration 9200: 0.544476\n",
      "Cost after iteration 9300: 0.544411\n",
      "Cost after iteration 9400: 0.544343\n",
      "Cost after iteration 9500: 0.544274\n",
      "Cost after iteration 9600: 0.544203\n",
      "Cost after iteration 9700: 0.544130\n",
      "Cost after iteration 9800: 0.544055\n",
      "Cost after iteration 9900: 0.543977\n",
      "Cost after iteration 10000: 0.543896\n",
      "Cost after iteration 10100: 0.543811\n",
      "Cost after iteration 10200: 0.543723\n",
      "Cost after iteration 10300: 0.543631\n",
      "Cost after iteration 10400: 0.543534\n",
      "Cost after iteration 10500: 0.543432\n",
      "Cost after iteration 10600: 0.543325\n",
      "Cost after iteration 10700: 0.543211\n",
      "Cost after iteration 10800: 0.543091\n",
      "Cost after iteration 10900: 0.542964\n",
      "Cost after iteration 11000: 0.542831\n",
      "Cost after iteration 11100: 0.542690\n",
      "Cost after iteration 11200: 0.542543\n",
      "Cost after iteration 11300: 0.542388\n",
      "Cost after iteration 11400: 0.542228\n",
      "Cost after iteration 11500: 0.542063\n",
      "Cost after iteration 11600: 0.541893\n",
      "Cost after iteration 11700: 0.541719\n",
      "Cost after iteration 11800: 0.541543\n",
      "Cost after iteration 11900: 0.541365\n",
      "Cost after iteration 12000: 0.541185\n",
      "Cost after iteration 12100: 0.541006\n",
      "Cost after iteration 12200: 0.540827\n",
      "Cost after iteration 12300: 0.540649\n",
      "Cost after iteration 12400: 0.540472\n",
      "Cost after iteration 12500: 0.540298\n",
      "Cost after iteration 12600: 0.540125\n",
      "Cost after iteration 12700: 0.539955\n",
      "Cost after iteration 12800: 0.539788\n",
      "Cost after iteration 12900: 0.539624\n",
      "Cost after iteration 13000: 0.539463\n",
      "Cost after iteration 13100: 0.539305\n",
      "Cost after iteration 13200: 0.539150\n",
      "Cost after iteration 13300: 0.538998\n",
      "Cost after iteration 13400: 0.538849\n",
      "Cost after iteration 13500: 0.538704\n",
      "Cost after iteration 13600: 0.538562\n",
      "Cost after iteration 13700: 0.538423\n",
      "Cost after iteration 13800: 0.538287\n",
      "Cost after iteration 13900: 0.538154\n"
     ]
    },
    {
     "data": {
      "image/png": "[encoded data removed]",
      "text/plain": [
       "<Figure size 432x288 with 1 Axes>"
      ]
     },
     "metadata": {
      "needs_background": "light"
     },
     "output_type": "display_data"
    }
   ],
   "source": [
    "cls.fit(X_train, Y_train)"
   ]
  },
  {
   "cell_type": "code",
   "execution_count": 11,
   "metadata": {},
   "outputs": [
    {
     "name": "stdout",
     "output_type": "stream",
     "text": [
      "{'W1': array([[-2.10460404, -2.32472722],\n",
      "       [-1.55044638, -2.98168334]]), 'b1': array([[-8.72824032],\n",
      "       [ 8.8030582 ]]), 'W2': array([[-7.20025125,  6.26373212]]), 'b2': array([[-5.27561939]])}\n"
     ]
    }
   ],
   "source": [
    "print(cls.parameters)"
   ]
  },
  {
   "cell_type": "code",
   "execution_count": 12,
   "metadata": {},
   "outputs": [
    {
     "data": {
      "text/plain": [
       "array([[0.72539858, 0.27460142],\n",
       "       [0.62368417, 0.37631583],\n",
       "       [0.62145268, 0.37854732],\n",
       "       [0.22510875, 0.77489125],\n",
       "       [0.02662325, 0.97337675],\n",
       "       [0.68995118, 0.31004882],\n",
       "       [0.01281259, 0.98718741],\n",
       "       [0.72848813, 0.27151187],\n",
       "       [0.72797864, 0.27202136],\n",
       "       [0.70912818, 0.29087182],\n",
       "       [0.72444316, 0.27555684],\n",
       "       [0.26550627, 0.73449373],\n",
       "       [0.25098463, 0.74901537],\n",
       "       [0.17416889, 0.82583111],\n",
       "       [0.66047331, 0.33952669],\n",
       "       [0.72204777, 0.27795223],\n",
       "       [0.70534704, 0.29465296],\n",
       "       [0.72859391, 0.27140609],\n",
       "       [0.67330332, 0.32669668],\n",
       "       [0.59771309, 0.40228691],\n",
       "       [0.72367784, 0.27632216],\n",
       "       [0.6848083 , 0.3151917 ],\n",
       "       [0.70050317, 0.29949683],\n",
       "       [0.08814259, 0.91185741],\n",
       "       [0.72659033, 0.27340967],\n",
       "       [0.67407634, 0.32592366],\n",
       "       [0.19902907, 0.80097093],\n",
       "       [0.67893486, 0.32106514],\n",
       "       [0.64672397, 0.35327603],\n",
       "       [0.71983867, 0.28016133],\n",
       "       [0.69976462, 0.30023538],\n",
       "       [0.71993715, 0.28006285],\n",
       "       [0.42106074, 0.57893926],\n",
       "       [0.7164468 , 0.2835532 ],\n",
       "       [0.00670602, 0.99329398],\n",
       "       [0.72479953, 0.27520047],\n",
       "       [0.39573658, 0.60426342],\n",
       "       [0.72816089, 0.27183911],\n",
       "       [0.72713197, 0.27286803],\n",
       "       [0.02409935, 0.97590065],\n",
       "       [0.04429159, 0.95570841],\n",
       "       [0.55296528, 0.44703472],\n",
       "       [0.01283983, 0.98716017],\n",
       "       [0.72681017, 0.27318983],\n",
       "       [0.20464751, 0.79535249],\n",
       "       [0.72771292, 0.27228708],\n",
       "       [0.03249946, 0.96750054],\n",
       "       [0.01337347, 0.98662653],\n",
       "       [0.05399221, 0.94600779],\n",
       "       [0.55816114, 0.44183886],\n",
       "       [0.59230608, 0.40769392],\n",
       "       [0.72862489, 0.27137511],\n",
       "       [0.72594624, 0.27405376],\n",
       "       [0.00677687, 0.99322313],\n",
       "       [0.39073374, 0.60926626],\n",
       "       [0.71030125, 0.28969875],\n",
       "       [0.00383672, 0.99616328],\n",
       "       [0.5760254 , 0.4239746 ],\n",
       "       [0.71513062, 0.28486938],\n",
       "       [0.72753835, 0.27246165],\n",
       "       [0.72705022, 0.27294978],\n",
       "       [0.70571254, 0.29428746],\n",
       "       [0.03094843, 0.96905157],\n",
       "       [0.44743397, 0.55256603],\n",
       "       [0.71276959, 0.28723041],\n",
       "       [0.66042837, 0.33957163],\n",
       "       [0.00423156, 0.99576844],\n",
       "       [0.25534361, 0.74465639],\n",
       "       [0.72518958, 0.27481042],\n",
       "       [0.34474797, 0.65525203],\n",
       "       [0.71993963, 0.28006037],\n",
       "       [0.55651002, 0.44348998],\n",
       "       [0.72854096, 0.27145904],\n",
       "       [0.72847061, 0.27152939],\n",
       "       [0.67573021, 0.32426979],\n",
       "       [0.72799913, 0.27200087],\n",
       "       [0.72845415, 0.27154585],\n",
       "       [0.71083795, 0.28916205],\n",
       "       [0.72818105, 0.27181895],\n",
       "       [0.63191428, 0.36808572],\n",
       "       [0.03862667, 0.96137333],\n",
       "       [0.72525472, 0.27474528],\n",
       "       [0.72632723, 0.27367277],\n",
       "       [0.66590224, 0.33409776],\n",
       "       [0.4968995 , 0.5031005 ],\n",
       "       [0.72451368, 0.27548632],\n",
       "       [0.32200924, 0.67799076],\n",
       "       [0.66528366, 0.33471634],\n",
       "       [0.72726708, 0.27273292],\n",
       "       [0.67229376, 0.32770624],\n",
       "       [0.29804601, 0.70195399],\n",
       "       [0.71456048, 0.28543952],\n",
       "       [0.72770716, 0.27229284],\n",
       "       [0.72002184, 0.27997816],\n",
       "       [0.19698622, 0.80301378],\n",
       "       [0.21372662, 0.78627338],\n",
       "       [0.71300469, 0.28699531],\n",
       "       [0.04103914, 0.95896086],\n",
       "       [0.6456185 , 0.3543815 ],\n",
       "       [0.58194786, 0.41805214],\n",
       "       [0.70621326, 0.29378674],\n",
       "       [0.72830107, 0.27169893],\n",
       "       [0.59206285, 0.40793715],\n",
       "       [0.03679092, 0.96320908],\n",
       "       [0.7054203 , 0.2945797 ],\n",
       "       [0.71759418, 0.28240582],\n",
       "       [0.72637976, 0.27362024],\n",
       "       [0.56063992, 0.43936008],\n",
       "       [0.72264923, 0.27735077],\n",
       "       [0.70035111, 0.29964889],\n",
       "       [0.72858704, 0.27141296],\n",
       "       [0.72598738, 0.27401262],\n",
       "       [0.72690549, 0.27309451],\n",
       "       [0.72781339, 0.27218661],\n",
       "       [0.43324092, 0.56675908],\n",
       "       [0.71360163, 0.28639837],\n",
       "       [0.16566686, 0.83433314],\n",
       "       [0.72011864, 0.27988136]])"
      ]
     },
     "execution_count": 12,
     "metadata": {},
     "output_type": "execute_result"
    }
   ],
   "source": [
    "Y_prob = cls.predict_proba(X)\n",
    "Y_prob"
   ]
  },
  {
   "cell_type": "code",
   "execution_count": 13,
   "metadata": {},
   "outputs": [
    {
     "data": {
      "text/plain": [
       "array([1, 1, 1, 0, 0, 1, 0, 1, 1, 1, 1, 0, 0, 0, 1, 1, 1, 1, 1, 1, 1, 1,\n",
       "       1, 0, 1, 1, 0, 1, 1, 1, 1, 1, 0, 1, 0, 1, 0, 1, 1, 0, 0, 1, 0, 1,\n",
       "       0, 1, 0, 0, 0, 1, 1, 1, 1, 0, 0, 1, 0, 1, 1, 1, 1, 1, 0, 0, 1, 1,\n",
       "       0, 0, 1, 0, 1, 1, 1, 1, 1, 1, 1, 1, 1, 1, 0, 1, 1, 1, 0, 1, 0, 1,\n",
       "       1, 1, 0, 1, 1, 1, 0, 0, 1, 0, 1, 1, 1, 1, 1, 0, 1, 1, 1, 1, 1, 1,\n",
       "       1, 1, 1, 1, 0, 1, 0, 1])"
      ]
     },
     "execution_count": 13,
     "metadata": {},
     "output_type": "execute_result"
    }
   ],
   "source": [
    "Y_hat = cls.predict(X)\n",
    "Y_hat"
   ]
  },
  {
   "cell_type": "code",
   "execution_count": 14,
   "metadata": {},
   "outputs": [
    {
     "data": {
      "text/plain": [
       "0.711864406779661"
      ]
     },
     "execution_count": 14,
     "metadata": {},
     "output_type": "execute_result"
    }
   ],
   "source": [
    "accuracy_score(Y, Y_hat)"
   ]
  },
  {
   "cell_type": "code",
   "execution_count": 15,
   "metadata": {},
   "outputs": [
    {
     "data": {
      "image/png": "[encoded data removed]",
      "text/plain": [
       "<Figure size 432x288 with 1 Axes>"
      ]
     },
     "metadata": {
      "needs_background": "light"
     },
     "output_type": "display_data"
    }
   ],
   "source": [
    "plot_data(X, Y)\n",
    "plot_surface(cls, X[:, 0], X[:, 1])"
   ]
  },
  {
   "cell_type": "code",
   "execution_count": 16,
   "metadata": {},
   "outputs": [],
   "source": [
    "from sklearn.neural_network import MLPClassifier\n",
    "clf = MLPClassifier(hidden_layer_sizes = (20,), max_iter = 10000, activation = 'relu', solver = 'sgd', learning_rate_init = 0.01, learning_rate = 'constant')"
   ]
  },
  {
   "cell_type": "code",
   "execution_count": 17,
   "metadata": {},
   "outputs": [
    {
     "data": {
      "text/plain": [
       "MLPClassifier(activation='relu', alpha=0.0001, batch_size='auto', beta_1=0.9,\n",
       "              beta_2=0.999, early_stopping=False, epsilon=1e-08,\n",
       "              hidden_layer_sizes=(20,), learning_rate='constant',\n",
       "              learning_rate_init=0.01, max_iter=10000, momentum=0.9,\n",
       "              n_iter_no_change=10, nesterovs_momentum=True, power_t=0.5,\n",
       "              random_state=None, shuffle=True, solver='sgd', tol=0.0001,\n",
       "              validation_fraction=0.1, verbose=False, warm_start=False)"
      ]
     },
     "execution_count": 17,
     "metadata": {},
     "output_type": "execute_result"
    }
   ],
   "source": [
    "clf.fit(X, Y)"
   ]
  },
  {
   "cell_type": "code",
   "execution_count": 18,
   "metadata": {},
   "outputs": [
    {
     "data": {
      "image/png": "[encoded data removed]",
      "text/plain": [
       "<Figure size 432x288 with 1 Axes>"
      ]
     },
     "metadata": {
      "needs_background": "light"
     },
     "output_type": "display_data"
    }
   ],
   "source": [
    "plot_data(X, Y)\n",
    "plot_surface(clf, X[:, 0], X[:, 1])"
   ]
  },
  {
   "cell_type": "code",
   "execution_count": 19,
   "metadata": {},
   "outputs": [
    {
     "data": {
      "text/plain": [
       "0.847457627118644"
      ]
     },
     "execution_count": 19,
     "metadata": {},
     "output_type": "execute_result"
    }
   ],
   "source": [
    "accuracy_score(Y, clf.predict(X))"
   ]
  }
 ],
 "metadata": {
  "anaconda-cloud": {},
  "kernelspec": {
   "display_name": "Python 3",
   "language": "python",
   "name": "python3"
  },
  "language_info": {
   "codemirror_mode": {
    "name": "ipython",
    "version": 3
   },
   "file_extension": ".py",
   "mimetype": "text/x-python",
   "name": "python",
   "nbconvert_exporter": "python",
   "pygments_lexer": "ipython3",
   "version": "3.7.4"
  }
 },
 "nbformat": 4,
 "nbformat_minor": 1
}
